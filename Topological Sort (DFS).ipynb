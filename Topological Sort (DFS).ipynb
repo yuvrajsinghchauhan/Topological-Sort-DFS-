{
 "cells": [
  {
   "cell_type": "code",
   "execution_count": 1,
   "id": "905e1035",
   "metadata": {},
   "outputs": [
    {
     "name": "stdout",
     "output_type": "stream",
     "text": [
      "The Topological Sort Of The Graph Is:  \n",
      "[0, 1, 2, 3, 4]\n"
     ]
    }
   ],
   "source": [
    "from collections import defaultdict\n",
    "\n",
    "class Graph:\n",
    "    def __init__(self,n):\n",
    "        self.graph = defaultdict(list)\n",
    "        self.N = n\n",
    "\n",
    "    def addEdge(self,m,n):\n",
    "        self.graph[m].append(n)\n",
    "\n",
    "    def sortUtil(self,n,visited,stack):\n",
    "        visited[n] = True\n",
    "        for element in self.graph[n]:\n",
    "            if visited[element] == False:\n",
    "                self.sortUtil(element,visited,stack)\n",
    "        stack.insert(0,n)\n",
    "\n",
    "    def topologicalSort(self):\n",
    "        visited = [False]*self.N\n",
    "        stack =[]\n",
    "        for element in range(self.N):\n",
    "            if visited[element] == False:\n",
    "                self.sortUtil(element,visited,stack)\n",
    "        print(stack)\n",
    "\n",
    "graph = Graph(5)\n",
    "graph.addEdge(0,1);\n",
    "graph.addEdge(0,3);\n",
    "graph.addEdge(1,2);\n",
    "graph.addEdge(2,3);\n",
    "graph.addEdge(2,4);\n",
    "graph.addEdge(3,4);\n",
    "\n",
    "print(\"The Topological Sort Of The Graph Is:  \")\n",
    "\n",
    "graph.topologicalSort()"
   ]
  },
  {
   "cell_type": "code",
   "execution_count": null,
   "id": "1a24176b",
   "metadata": {},
   "outputs": [],
   "source": []
  }
 ],
 "metadata": {
  "kernelspec": {
   "display_name": "Python 3 (ipykernel)",
   "language": "python",
   "name": "python3"
  },
  "language_info": {
   "codemirror_mode": {
    "name": "ipython",
    "version": 3
   },
   "file_extension": ".py",
   "mimetype": "text/x-python",
   "name": "python",
   "nbconvert_exporter": "python",
   "pygments_lexer": "ipython3",
   "version": "3.9.7"
  }
 },
 "nbformat": 4,
 "nbformat_minor": 5
}
